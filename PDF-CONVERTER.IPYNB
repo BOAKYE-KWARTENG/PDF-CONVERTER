{
 "cells": [
  {
   "cell_type": "markdown",
   "metadata": {},
   "source": [
    "# **PDF-CONVERTER**"
   ]
  },
  {
   "cell_type": "markdown",
   "metadata": {},
   "source": [
    "### **BACKGROUND**"
   ]
  },
  {
   "cell_type": "markdown",
   "metadata": {},
   "source": [
    "One day, after a long and stressful day at work, I had an epiphany. I realized that my experience in the corporate world and office work had been quite challenging and unfamiliar for the past four months. While I was skilled in handling data and had good communication abilities, managing and organizing large and unorganized documents and files was not my forte.\n",
    "\n",
    "Tasks like renaming hundreds of files in various folders seemed never-ending and left me feeling overwhelmed. One day, I spent nearly four hours working on documents to be sent out to clients, and it was draining my energy. I contemplated quitting my job, as I couldn't imagine continuing with such tedious tasks.\n",
    "\n",
    "However, I refused to give up. Instead, I decided to leverage my coding skills and embark on a journey to improve my file management abilities. I spent the subsequent weeks and months researching and experimenting, determined to make my work life more comfortable and enjoyable.\n",
    "\n",
    "As part of my team's responsibilities, we had a platform that accepted multiple file formats. Still, our stakeholders required these documents in PDF format. This posed a significant challenge, as converting hundreds of non-PDF file formats to PDF and renaming them appropriately was a mundane and time-consuming task.\n",
    "\n",
    "I researched and delved into my coding knowledge and crafted a Python script that would automate this process for me. The script worked wonders, effortlessly converting all non-PDF file formats in a master directory and its subfolders to PDF. Not only did it perform the conversion, but it also ensured that the files were renamed appropriately, eliminating the hassle of duplicates.\n",
    "\n",
    "With the newfound magic of coding, I could now handle this daunting task with ease and efficiency. The script became my trusty companion, transforming my office life and giving me the freedom to focus on more meaningful and rewarding aspects of my work.\n"
   ]
  },
  {
   "cell_type": "markdown",
   "metadata": {},
   "source": [
    "### **PURPOSE**"
   ]
  },
  {
   "cell_type": "markdown",
   "metadata": {},
   "source": [
    "The code is a program that helps convert image files like JPEG, PNG, GIF, etc., into PDF format. It scans a specific folder on your computer and its subfolders. When it finds an image file, it converts it to PDF, making it easier to share and manage. After converting, it deletes the original image file, ensuring that only the PDF versions remain. The program then displays a message once all the conversions and deletions are completed successfully."
   ]
  },
  {
   "cell_type": "markdown",
   "metadata": {},
   "source": [
    "### **INSTALL**"
   ]
  },
  {
   "cell_type": "markdown",
   "metadata": {},
   "source": [
    "Make sure you have these libraries installed before running the code. You can install them using the following commands in your terminal or command prompt:"
   ]
  },
  {
   "cell_type": "markdown",
   "metadata": {},
   "source": [
    "pip install pandas\n",
    "\n",
    "pip install Pillow\n"
   ]
  },
  {
   "cell_type": "markdown",
   "metadata": {},
   "source": [
    "### **EXECUTE CODES**"
   ]
  },
  {
   "cell_type": "code",
   "execution_count": 1,
   "metadata": {},
   "outputs": [],
   "source": [
    "import os\n",
    "import shutil\n",
    "from PIL import Image"
   ]
  },
  {
   "cell_type": "code",
   "execution_count": 2,
   "metadata": {},
   "outputs": [],
   "source": [
    "source_dir = r'your folder directory'"
   ]
  },
  {
   "cell_type": "code",
   "execution_count": null,
   "metadata": {},
   "outputs": [],
   "source": [
    "\n",
    "\n",
    "# Function to convert non-PDF files to PDF\n",
    "def convert_to_pdf(file_path):\n",
    "    file_name, file_ext = os.path.splitext(file_path)\n",
    "    pdf_file = f\"{file_name}.pdf\"\n",
    "    if file_ext.lower() not in ['.pdf']:\n",
    "        if file_ext.lower() in ['.jpg', '.jpeg', '.png', '.gif', '.bmp', '.tiff']:\n",
    "            img = Image.open(file_path)\n",
    "            img.save(pdf_file, \"PDF\", resolution=100.0)\n",
    "            return pdf_file\n",
    "    return None\n",
    "\n",
    "# Function to delete non-PDF files\n",
    "def delete_non_pdf(file_path):\n",
    "    file_name, file_ext = os.path.splitext(file_path)\n",
    "    if file_ext.lower() not in ['.pdf']:\n",
    "        os.remove(file_path)\n",
    "\n",
    "# Iterate over each subfolder and file in the source directory\n",
    "for folder_name, subfolders, filenames in os.walk(source_dir):\n",
    "    for filename in filenames:\n",
    "        file_path = os.path.join(folder_name, filename)\n",
    "\n",
    "        # Convert non-PDF files to PDF and get the PDF file path\n",
    "        pdf_file_path = convert_to_pdf(file_path)\n",
    "        if pdf_file_path is not None:\n",
    "            # Delete the original non-PDF file\n",
    "            delete_non_pdf(file_path)\n",
    "\n",
    "print(\"Conversion and deletion completed successfully!\")"
   ]
  }
 ],
 "metadata": {
  "kernelspec": {
   "display_name": "Python 3",
   "language": "python",
   "name": "python3"
  },
  "language_info": {
   "codemirror_mode": {
    "name": "ipython",
    "version": 3
   },
   "file_extension": ".py",
   "mimetype": "text/x-python",
   "name": "python",
   "nbconvert_exporter": "python",
   "pygments_lexer": "ipython3",
   "version": "3.11.4"
  },
  "orig_nbformat": 4
 },
 "nbformat": 4,
 "nbformat_minor": 2
}
